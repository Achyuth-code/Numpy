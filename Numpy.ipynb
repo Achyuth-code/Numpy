{
 "cells": [
  {
   "cell_type": "code",
   "execution_count": 3,
   "id": "d22fc762-578b-4e9d-8bad-f4addf57d6b2",
   "metadata": {},
   "outputs": [],
   "source": [
    "import numpy as np"
   ]
  },
  {
   "cell_type": "markdown",
   "id": "b5b9c9b7-b007-4246-880c-4b1314229d65",
   "metadata": {},
   "source": [
    "1. Converting a list to array"
   ]
  },
  {
   "cell_type": "code",
   "execution_count": 4,
   "id": "78073d37-1d71-4289-be7e-02d09e158594",
   "metadata": {},
   "outputs": [
    {
     "name": "stdout",
     "output_type": "stream",
     "text": [
      "<class 'list'>\n"
     ]
    }
   ],
   "source": [
    "lst = [1,2,3,4]\n",
    "print(type(lst))"
   ]
  },
  {
   "cell_type": "code",
   "execution_count": 5,
   "id": "b9e2133e-e77f-4262-a5a0-5be3e14c8368",
   "metadata": {},
   "outputs": [
    {
     "name": "stdout",
     "output_type": "stream",
     "text": [
      "<class 'numpy.ndarray'>\n"
     ]
    }
   ],
   "source": [
    "arr = np.array(lst)\n",
    "print(type(arr))"
   ]
  },
  {
   "cell_type": "code",
   "execution_count": 6,
   "id": "cafbf7d3-826f-4270-9ec8-26633d6ada5c",
   "metadata": {},
   "outputs": [
    {
     "name": "stdout",
     "output_type": "stream",
     "text": [
      "[[1 2 3 4]]\n"
     ]
    }
   ],
   "source": [
    "arr = np.array(lst,ndmin = 2)\n",
    "print(arr)"
   ]
  },
  {
   "cell_type": "markdown",
   "id": "29d74a6f-5070-4016-a7b2-9f03ad215283",
   "metadata": {},
   "source": [
    "2. Arange function"
   ]
  },
  {
   "cell_type": "code",
   "execution_count": 10,
   "id": "1950c073-498d-4f16-9422-a6ab97c6dd85",
   "metadata": {},
   "outputs": [],
   "source": [
    "arr = np.arange(1.10,4)"
   ]
  },
  {
   "cell_type": "markdown",
   "id": "65e44fc1-e723-4562-afe8-3540e717ba07",
   "metadata": {},
   "source": [
    "3. Multidimensional Array"
   ]
  },
  {
   "cell_type": "code",
   "execution_count": 12,
   "id": "2339330b-94f6-4cac-89be-bf22f25b6294",
   "metadata": {},
   "outputs": [
    {
     "data": {
      "text/plain": [
       "array([[1, 2, 3],\n",
       "       [5, 2, 7],\n",
       "       [9, 0, 1]])"
      ]
     },
     "execution_count": 12,
     "metadata": {},
     "output_type": "execute_result"
    }
   ],
   "source": [
    "arr = np.array([[1,2,3],[5,2,7],[9,0,1]])\n",
    "arr"
   ]
  },
  {
   "cell_type": "markdown",
   "id": "535d8cf5-9197-45fd-a8b7-b85cbd7121cf",
   "metadata": {},
   "source": [
    "4.Size Function"
   ]
  },
  {
   "cell_type": "code",
   "execution_count": 13,
   "id": "95447a7b-1a26-4a5a-9932-01b0d34be047",
   "metadata": {},
   "outputs": [
    {
     "name": "stdout",
     "output_type": "stream",
     "text": [
      "Total :  12\n",
      "Rows  :  4\n",
      "Cols  :  3\n"
     ]
    },
    {
     "data": {
      "text/plain": [
       "array([[1, 2, 3],\n",
       "       [4, 5, 6],\n",
       "       [7, 8, 9],\n",
       "       [1, 2, 3]])"
      ]
     },
     "execution_count": 13,
     "metadata": {},
     "output_type": "execute_result"
    }
   ],
   "source": [
    "arr = np.array([[1,2,3],[4,5,6],[7,8,9],[1,2,3]])\n",
    "\n",
    "print('Total : ', arr.size)\n",
    "print('Rows  : ', np.size(arr,0))\n",
    "print('Cols  : ', np.size(arr,1))\n",
    "\n",
    "arr"
   ]
  },
  {
   "cell_type": "markdown",
   "id": "e7eb897e-665e-4301-a2fc-0674afe1f205",
   "metadata": {},
   "source": [
    "5. Shape Function"
   ]
  },
  {
   "cell_type": "code",
   "execution_count": 14,
   "id": "e5f6f085-c656-4feb-a3ed-d2c81efdf3ee",
   "metadata": {},
   "outputs": [
    {
     "name": "stdout",
     "output_type": "stream",
     "text": [
      "(4, 3)\n",
      "(4, 3)\n"
     ]
    }
   ],
   "source": [
    "arr = np.array([[1,2,3],[4,5,6],[7,8,9],[1,2,3]])\n",
    "\n",
    "print((np.size(arr,0),np.size(arr,1)))\n",
    "\n",
    "print(arr.shape)"
   ]
  },
  {
   "cell_type": "markdown",
   "id": "eff997bf-67ca-4752-82fc-f70162b479d8",
   "metadata": {},
   "source": [
    "6.Dtype Function"
   ]
  },
  {
   "cell_type": "code",
   "execution_count": 15,
   "id": "602ecbd5-8ee6-43a6-b56f-b2c2741f0553",
   "metadata": {},
   "outputs": [
    {
     "name": "stdout",
     "output_type": "stream",
     "text": [
      "int32\n",
      "float64\n"
     ]
    }
   ],
   "source": [
    "arr1 = np.array([1,2,3,1,2,3])\n",
    "arr2 = np.array([1.2,3.1,2.3])\n",
    "\n",
    "\n",
    "print(arr1.dtype)\n",
    "print(arr2.dtype)"
   ]
  },
  {
   "cell_type": "markdown",
   "id": "e544ad9b-771b-4722-b4be-c5cd763c335f",
   "metadata": {},
   "source": [
    "7. Ndim Function"
   ]
  },
  {
   "cell_type": "code",
   "execution_count": 16,
   "id": "86243f26-f118-4a10-b322-7d2a94ff0022",
   "metadata": {},
   "outputs": [
    {
     "name": "stdout",
     "output_type": "stream",
     "text": [
      "1\n",
      "2\n",
      "3\n"
     ]
    }
   ],
   "source": [
    "arr1 = np.array([1,2,3,1,2,3])\n",
    "arr2 = np.array([[1,2,3],[1,2,3]])\n",
    "\n",
    "print(arr1.ndim)\n",
    "print(arr2.ndim)\n",
    "\n",
    "arr3 = np.array(arr1, ndmin = 3)\n",
    "print(arr3.ndim)"
   ]
  },
  {
   "cell_type": "markdown",
   "id": "52db7bac-cb47-4d9e-a262-9e6e8a37e4ab",
   "metadata": {},
   "source": [
    "8. Zeros Function"
   ]
  },
  {
   "cell_type": "code",
   "execution_count": 17,
   "id": "9965d48a-aebe-42a3-9e1d-7666c7aaa4d6",
   "metadata": {},
   "outputs": [
    {
     "name": "stdout",
     "output_type": "stream",
     "text": [
      "[[0 0 0 0 0]\n",
      " [0 0 0 0 0]\n",
      " [0 0 0 0 0]]\n"
     ]
    }
   ],
   "source": [
    "arr = np.zeros(shape = (3,5), dtype = int)\n",
    "\n",
    "print(arr)"
   ]
  },
  {
   "cell_type": "markdown",
   "id": "797cbcc1-df69-4279-b2eb-c5703152ca97",
   "metadata": {},
   "source": [
    "Ones Function"
   ]
  },
  {
   "cell_type": "code",
   "execution_count": 19,
   "id": "c621d032-366f-4c8f-bb64-1eb65630b66e",
   "metadata": {},
   "outputs": [
    {
     "name": "stdout",
     "output_type": "stream",
     "text": [
      "[[1 1 1 1 1]\n",
      " [1 1 1 1 1]\n",
      " [1 1 1 1 1]]\n"
     ]
    }
   ],
   "source": [
    "arr = np.ones(shape = (3,5), dtype = int)\n",
    "\n",
    "print(arr)"
   ]
  },
  {
   "cell_type": "markdown",
   "id": "60eece3a-ada2-4e52-aa11-5ac9d731a56c",
   "metadata": {},
   "source": [
    "9. Eye Function"
   ]
  },
  {
   "cell_type": "code",
   "execution_count": 20,
   "id": "c7311378-7d35-4aae-9187-c55b12b199c1",
   "metadata": {},
   "outputs": [
    {
     "data": {
      "text/plain": [
       "array([[1, 0, 0, 0],\n",
       "       [0, 1, 0, 0],\n",
       "       [0, 0, 1, 0],\n",
       "       [0, 0, 0, 1]])"
      ]
     },
     "execution_count": 20,
     "metadata": {},
     "output_type": "execute_result"
    }
   ],
   "source": [
    "np.eye(4, dtype = int)"
   ]
  },
  {
   "cell_type": "markdown",
   "id": "5bda39c1-5bf1-4bf4-b260-5fac3303bb2c",
   "metadata": {},
   "source": [
    "10. Empty Function"
   ]
  },
  {
   "cell_type": "code",
   "execution_count": 23,
   "id": "9e8d1427-8f9b-4d31-8c67-4f8e470b7164",
   "metadata": {},
   "outputs": [
    {
     "data": {
      "text/plain": [
       "array([[0.00e+000, 0.00e+000, 0.00e+000],\n",
       "       [0.00e+000, 0.00e+000, 9.01e-321],\n",
       "       [0.00e+000, 0.00e+000, 0.00e+000]])"
      ]
     },
     "execution_count": 23,
     "metadata": {},
     "output_type": "execute_result"
    }
   ],
   "source": [
    "np.empty(shape = (3,3))"
   ]
  },
  {
   "cell_type": "markdown",
   "id": "26ff1234-df76-4636-bdde-65957cc55869",
   "metadata": {},
   "source": [
    "11.Random Functions"
   ]
  },
  {
   "cell_type": "code",
   "execution_count": 24,
   "id": "df5d0e86-fbc4-4735-a2e4-f746206cc411",
   "metadata": {},
   "outputs": [
    {
     "data": {
      "text/plain": [
       "array([[0.24419876, 0.0357322 , 0.9522629 , 0.16773512],\n",
       "       [0.88009372, 0.12233911, 0.54811709, 0.6430559 ],\n",
       "       [0.08432803, 0.48019354, 0.19028188, 0.92155595]])"
      ]
     },
     "execution_count": 24,
     "metadata": {},
     "output_type": "execute_result"
    }
   ],
   "source": [
    "np.random.rand(3,4)"
   ]
  },
  {
   "cell_type": "code",
   "execution_count": 25,
   "id": "317efca9-c091-447b-a317-ce5d494abf67",
   "metadata": {},
   "outputs": [
    {
     "data": {
      "text/plain": [
       "array([8, 7, 3, 5, 4, 3, 7, 9, 9, 3])"
      ]
     },
     "execution_count": 25,
     "metadata": {},
     "output_type": "execute_result"
    }
   ],
   "source": [
    "np.random.randint(low = 1, high = 10, size = 10)"
   ]
  },
  {
   "cell_type": "code",
   "execution_count": 26,
   "id": "fed70b69-63fd-4466-8bde-35a551fad2a4",
   "metadata": {},
   "outputs": [
    {
     "data": {
      "image/png": "[encoded data removed]",
      "text/plain": [
       "<Figure size 640x480 with 1 Axes>"
      ]
     },
     "metadata": {},
     "output_type": "display_data"
    }
   ],
   "source": [
    "import matplotlib.pyplot as plt\n",
    "\n",
    "%matplotlib inline\n",
    "\n",
    "plt.hist(np.random.randn(10000000), bins = 1000);"
   ]
  },
  {
   "cell_type": "markdown",
   "id": "3edaf074-03fb-4754-a21c-a3a31e7eb2a3",
   "metadata": {},
   "source": [
    "12. Reshape Function - will not alter the original data"
   ]
  },
  {
   "cell_type": "code",
   "execution_count": 28,
   "id": "780bc3de-29b3-4bcb-8174-c1739a519b17",
   "metadata": {},
   "outputs": [
    {
     "name": "stdout",
     "output_type": "stream",
     "text": [
      "(3, 4)\n"
     ]
    }
   ],
   "source": [
    "arr = np.random.randint(1,15,(3,4))\n",
    "\n",
    "print(arr.shape)"
   ]
  },
  {
   "cell_type": "code",
   "execution_count": 29,
   "id": "8503f639-7b0a-4712-8823-1642b04ce619",
   "metadata": {},
   "outputs": [
    {
     "name": "stdout",
     "output_type": "stream",
     "text": [
      "(6, 2)\n"
     ]
    }
   ],
   "source": [
    "arr = arr.reshape(6,2)\n",
    "print(arr.shape)"
   ]
  },
  {
   "cell_type": "markdown",
   "id": "d76ce0b5-c72f-449c-b0eb-22669fbb3bc2",
   "metadata": {},
   "source": [
    "13. Linspace Function"
   ]
  },
  {
   "cell_type": "code",
   "execution_count": 32,
   "id": "1856851e-b6e7-43d3-9648-bc5c8e407ae0",
   "metadata": {},
   "outputs": [
    {
     "data": {
      "text/plain": [
       "array([ 1. ,  2.8,  4.6,  6.4,  8.2, 10. ])"
      ]
     },
     "execution_count": 32,
     "metadata": {},
     "output_type": "execute_result"
    }
   ],
   "source": [
    "np.linspace(1,10,6)"
   ]
  },
  {
   "cell_type": "markdown",
   "id": "83340097-2636-4f9f-9939-a26105da94dd",
   "metadata": {},
   "source": [
    "14. Flatten Function"
   ]
  },
  {
   "cell_type": "code",
   "execution_count": 34,
   "id": "93076419-2d27-46d1-bc36-89a73cc60a24",
   "metadata": {},
   "outputs": [
    {
     "name": "stdout",
     "output_type": "stream",
     "text": [
      "(3, 4)\n",
      "[[ 5  5  4  1]\n",
      " [ 1  9  5 13]\n",
      " [ 7 14 13  9]]\n",
      "--------------------\n",
      "(12,)\n",
      "[ 5  5  4  1  1  9  5 13  7 14 13  9]\n"
     ]
    }
   ],
   "source": [
    "arr = np.random.randint(1,15,(3,4))\n",
    "\n",
    "print(arr.shape)\n",
    "print(arr)\n",
    "print('-'*20)\n",
    "arr = arr.flatten()\n",
    "print(arr.shape)\n",
    "print(arr)"
   ]
  },
  {
   "cell_type": "markdown",
   "id": "44714db5-5c6a-45f8-b1b0-03af96aa4bcc",
   "metadata": {},
   "source": [
    "15. Logspace Function"
   ]
  },
  {
   "cell_type": "code",
   "execution_count": 38,
   "id": "e7f3c4ab-a52a-4d29-bca5-e0d23073b261",
   "metadata": {},
   "outputs": [
    {
     "name": "stdout",
     "output_type": "stream",
     "text": [
      "[  100.           316.22776602  1000.          3162.27766017\n",
      " 10000.        ]\n",
      "--------------------\n",
      "[ 9.         15.58845727 27.         46.7653718  81.        ]\n"
     ]
    }
   ],
   "source": [
    "print(np.logspace(2,4,5))\n",
    "print('-'*20)\n",
    "print(np.logspace(2,4,5, base = 3))"
   ]
  },
  {
   "cell_type": "markdown",
   "id": "b3e28022-38e8-449b-b4be-c2340b40353b",
   "metadata": {},
   "source": [
    "16. Copy Function"
   ]
  },
  {
   "cell_type": "code",
   "execution_count": 41,
   "id": "7316c84b-c611-453c-a4eb-45551ce7b6d2",
   "metadata": {},
   "outputs": [
    {
     "name": "stdout",
     "output_type": "stream",
     "text": [
      "[10 10  8  3  3 11 11  8 11  5] 1933727393488\n",
      "[10 10  8  3  3 11 11  8 11  5] 1933727393488\n"
     ]
    }
   ],
   "source": [
    "arr1 = np.random.randint(1,15,10)\n",
    "arr2 = arr1\n",
    "print(arr1, id(arr1))\n",
    "print(arr2, id(arr2))"
   ]
  },
  {
   "cell_type": "code",
   "execution_count": 44,
   "id": "8de4220f-2c8c-4e5b-baac-3c05899e3f4c",
   "metadata": {},
   "outputs": [
    {
     "name": "stdout",
     "output_type": "stream",
     "text": [
      "[18  1  6 11 12 17 18  3 17  8] 1933727392144\n",
      "[18  1  6 11 12 17 18  3 17  8] 1933709313104\n"
     ]
    }
   ],
   "source": [
    "arr1 = np.random.randint(1,20,10)\n",
    "arr2 = np.copy(arr1)\n",
    "print(arr1, id(arr1))\n",
    "print(arr2, id(arr2))"
   ]
  },
  {
   "cell_type": "code",
   "execution_count": 45,
   "id": "3861286f-521b-49f4-af5c-026a91dc4a67",
   "metadata": {},
   "outputs": [
    {
     "name": "stdout",
     "output_type": "stream",
     "text": [
      "[11 12 13 12  4  4  6  1  9  6] 1933727390992\n",
      "[11 12 13 12  4  4  6  1  9  6] 1933727390992\n",
      "--------------------------------------------------\n",
      "[ 3  2  7 14  7 12 13 14  9  7] 1933727392624\n",
      "[ 3  2  7 14  7 12 13 14  9  7] 1933709313104\n"
     ]
    }
   ],
   "source": [
    "arr1 = np.random.randint(1,15,10)\n",
    "arr2 = arr1\n",
    "print(arr1, id(arr1))\n",
    "print(arr2, id(arr2))\n",
    "print('-'*50)\n",
    "arr1 = np.random.randint(1,15,10)\n",
    "arr2 = np.copy(arr1)\n",
    "print(arr1, id(arr1))\n",
    "print(arr2, id(arr2))"
   ]
  },
  {
   "cell_type": "markdown",
   "id": "bceba301-3e07-4678-999a-f3c22359a95c",
   "metadata": {},
   "source": [
    "17. arr.max(),\n",
    "arr. min(),\n",
    "arr.sum() functions"
   ]
  },
  {
   "cell_type": "code",
   "execution_count": 46,
   "id": "584a46ca-e725-45a2-9748-7e7d7f425af5",
   "metadata": {},
   "outputs": [
    {
     "name": "stdout",
     "output_type": "stream",
     "text": [
      "[[19 22 29 27 25]\n",
      " [14  2 25 11  7]\n",
      " [29 13 10  4  4]]\n"
     ]
    }
   ],
   "source": [
    "arr = np.random.randint(1,30,(3,5))\n",
    "print(arr)"
   ]
  },
  {
   "cell_type": "code",
   "execution_count": 47,
   "id": "677b3df7-517d-4c28-a492-443479030ddd",
   "metadata": {},
   "outputs": [
    {
     "name": "stdout",
     "output_type": "stream",
     "text": [
      "MIN :  2\n"
     ]
    }
   ],
   "source": [
    "print('MIN : ', arr.min())"
   ]
  },
  {
   "cell_type": "code",
   "execution_count": 48,
   "id": "96abeb2c-8ba4-4a57-badb-a6ddc15207b9",
   "metadata": {},
   "outputs": [
    {
     "name": "stdout",
     "output_type": "stream",
     "text": [
      "MAX :  29\n"
     ]
    }
   ],
   "source": [
    "print('MAX : ', arr.max())"
   ]
  },
  {
   "cell_type": "code",
   "execution_count": 49,
   "id": "aac54ee9-b96b-4b79-acc8-1b80edf118d8",
   "metadata": {},
   "outputs": [
    {
     "name": "stdout",
     "output_type": "stream",
     "text": [
      "SUM :  241\n"
     ]
    }
   ],
   "source": [
    "print('SUM : ', arr.sum())"
   ]
  },
  {
   "cell_type": "markdown",
   "id": "cb31384a-cc5b-4dff-8593-581d5f6d5b25",
   "metadata": {},
   "source": [
    "Columns"
   ]
  },
  {
   "cell_type": "code",
   "execution_count": 50,
   "id": "c41fdaa1-a2ec-47be-9fdf-4cea6656d361",
   "metadata": {},
   "outputs": [
    {
     "name": "stdout",
     "output_type": "stream",
     "text": [
      "MAX :  [29 22 29 27 25]\n",
      "MIN :  [14  2 10  4  4]\n",
      "SUM :  [62 37 64 42 36]\n"
     ]
    }
   ],
   "source": [
    "print('MAX : ', arr.max(axis = 0))\n",
    "print('MIN : ', arr.min(axis = 0))\n",
    "print('SUM : ', arr.sum(axis = 0))"
   ]
  },
  {
   "cell_type": "markdown",
   "id": "df8b6b95-e957-46b2-ae74-aa04e1cb91b3",
   "metadata": {},
   "source": [
    "Rows"
   ]
  },
  {
   "cell_type": "code",
   "execution_count": 51,
   "id": "422175ae-2422-460a-89cf-cd1fc949f333",
   "metadata": {},
   "outputs": [
    {
     "name": "stdout",
     "output_type": "stream",
     "text": [
      "MAX :  [29 25 29]\n",
      "MIN :  [19  2  4]\n",
      "SUM :  [122  59  60]\n"
     ]
    }
   ],
   "source": [
    "print('MAX : ', arr.max(axis = 1))\n",
    "print('MIN : ', arr.min(axis = 1))\n",
    "print('SUM : ', arr.sum(axis = 1))"
   ]
  },
  {
   "cell_type": "markdown",
   "id": "e01e9a4e-7dbc-46f7-89f7-732e9e4a0473",
   "metadata": {},
   "source": [
    "18.Seed Function"
   ]
  },
  {
   "cell_type": "code",
   "execution_count": 52,
   "id": "3a059eb7-313c-463c-9055-f822edb4cf18",
   "metadata": {},
   "outputs": [
    {
     "data": {
      "text/plain": [
       "array([[9, 4, 9, 9, 1],\n",
       "       [6, 4, 6, 8, 7],\n",
       "       [1, 5, 8, 9, 2]])"
      ]
     },
     "execution_count": 52,
     "metadata": {},
     "output_type": "execute_result"
    }
   ],
   "source": [
    "np.random.seed(3)\n",
    "arr = np.random.randint(1,10,(3,5))\n",
    "arr"
   ]
  },
  {
   "cell_type": "markdown",
   "id": "25b6d9a9-0d00-429f-a262-d214f3ec52c3",
   "metadata": {},
   "source": [
    "19. Sorting Function"
   ]
  },
  {
   "cell_type": "code",
   "execution_count": 53,
   "id": "7b176e9a-e278-47b9-b15c-c1702b6f8fa2",
   "metadata": {},
   "outputs": [
    {
     "name": "stdout",
     "output_type": "stream",
     "text": [
      "---------------\n",
      "[[9 4 9 9 1]\n",
      " [6 4 6 8 7]\n",
      " [1 5 8 9 2]]\n",
      "---------------\n"
     ]
    }
   ],
   "source": [
    "np.random.seed(3)\n",
    "arr = np.random.randint(1,10,(3,5))\n",
    "print('-'*15)\n",
    "print(arr)\n",
    "print('-'*15)"
   ]
  },
  {
   "cell_type": "code",
   "execution_count": 54,
   "id": "038df555-1355-4142-94cc-9b8afb43020f",
   "metadata": {},
   "outputs": [
    {
     "name": "stdout",
     "output_type": "stream",
     "text": [
      "---------------\n",
      "[[1 4 9 9 9]\n",
      " [4 6 6 7 8]\n",
      " [1 2 5 8 9]]\n",
      "---------------\n"
     ]
    }
   ],
   "source": [
    "print('-'*15)\n",
    "print(np.sort(arr, axis = 1))\n",
    "print('-'*15)"
   ]
  },
  {
   "cell_type": "code",
   "execution_count": 56,
   "id": "3b40a51e-c11a-48f3-a557-70ce538dd6b2",
   "metadata": {},
   "outputs": [
    {
     "name": "stdout",
     "output_type": "stream",
     "text": [
      "---------------\n",
      "[[1 4 6 8 1]\n",
      " [6 4 8 9 2]\n",
      " [9 5 9 9 7]]\n",
      "---------------\n"
     ]
    }
   ],
   "source": [
    "print('-'*15)\n",
    "print(np.sort(arr, axis = 0))\n",
    "print('-'*15)"
   ]
  },
  {
   "cell_type": "code",
   "execution_count": 58,
   "id": "761437f1-a0f1-4ee4-8351-ea775a8ad3da",
   "metadata": {},
   "outputs": [
    {
     "name": "stdout",
     "output_type": "stream",
     "text": [
      "---------------\n",
      "[[1 1 2 4 4]\n",
      " [5 6 6 7 8]\n",
      " [8 9 9 9 9]]\n",
      "---------------\n"
     ]
    }
   ],
   "source": [
    "arr = np.reshape(np.sort(arr.flatten()), arr.shape)\n",
    "print('-'*15)\n",
    "print(arr)\n",
    "print('-'*15)"
   ]
  },
  {
   "cell_type": "markdown",
   "id": "5477e0f1-eeff-48a2-8530-4e82cce7ee08",
   "metadata": {},
   "source": [
    "20. Mathematical Operations 1. Addition"
   ]
  },
  {
   "cell_type": "code",
   "execution_count": 59,
   "id": "7c5fb60d-1c05-491a-b49b-8aa6376a2baf",
   "metadata": {},
   "outputs": [
    {
     "name": "stdout",
     "output_type": "stream",
     "text": [
      "---------------\n",
      "[[9 4 9 9 1]\n",
      " [6 4 6 8 7]\n",
      " [1 5 8 9 2]]\n",
      "---------------\n"
     ]
    }
   ],
   "source": [
    "np.random.seed(3)\n",
    "arr = np.random.randint(1,10,(3,5))\n",
    "print('-' * 15)\n",
    "print(arr)\n",
    "print('-' * 15)"
   ]
  },
  {
   "cell_type": "code",
   "execution_count": 60,
   "id": "f31f5c14-b17c-49f6-bd61-944da31f1c90",
   "metadata": {},
   "outputs": [
    {
     "name": "stdout",
     "output_type": "stream",
     "text": [
      "---------------\n",
      "[[10  5 10 10  2]\n",
      " [ 7  5  7  9  8]\n",
      " [ 2  6  9 10  3]]\n",
      "---------------\n"
     ]
    }
   ],
   "source": [
    "print('-' * 15)\n",
    "print(arr + 1)\n",
    "print('-' * 15)"
   ]
  },
  {
   "cell_type": "markdown",
   "id": "b02a8867-0661-40b6-ad27-f9b54f7b69a9",
   "metadata": {},
   "source": [
    "2.Subtraction"
   ]
  },
  {
   "cell_type": "code",
   "execution_count": 61,
   "id": "ba8fa4d7-a8c4-47ff-8f49-91df059cd883",
   "metadata": {},
   "outputs": [
    {
     "name": "stdout",
     "output_type": "stream",
     "text": [
      "---------------\n",
      "[[9 4 9 9 1]\n",
      " [6 4 6 8 7]\n",
      " [1 5 8 9 2]]\n",
      "---------------\n"
     ]
    }
   ],
   "source": [
    "print('-' * 15)\n",
    "print(arr)\n",
    "print('-' * 15)"
   ]
  },
  {
   "cell_type": "code",
   "execution_count": 62,
   "id": "ebee5a22-1b67-4e62-827a-367df1334179",
   "metadata": {},
   "outputs": [
    {
     "name": "stdout",
     "output_type": "stream",
     "text": [
      "---------------\n",
      "[[8 3 8 8 0]\n",
      " [5 3 5 7 6]\n",
      " [0 4 7 8 1]]\n",
      "---------------\n"
     ]
    }
   ],
   "source": [
    "print('-' * 15)\n",
    "print(arr-1)\n",
    "print('-' * 15)"
   ]
  },
  {
   "cell_type": "markdown",
   "id": "cd083b71-4677-49e5-99b5-69c9c35c936f",
   "metadata": {},
   "source": [
    "3. Multiplication"
   ]
  },
  {
   "cell_type": "code",
   "execution_count": 63,
   "id": "5cc97ba3-6ae3-493f-8315-eb7dc1adb53d",
   "metadata": {},
   "outputs": [
    {
     "name": "stdout",
     "output_type": "stream",
     "text": [
      "---------------\n",
      "[[18  8 18 18  2]\n",
      " [12  8 12 16 14]\n",
      " [ 2 10 16 18  4]]\n",
      "---------------\n"
     ]
    }
   ],
   "source": [
    "print('-' * 15)\n",
    "print(arr*2)\n",
    "print('-' * 15)"
   ]
  },
  {
   "cell_type": "markdown",
   "id": "db16feed-8f39-48e6-8a6f-e6df5ae2776f",
   "metadata": {},
   "source": [
    "4.Division"
   ]
  },
  {
   "cell_type": "code",
   "execution_count": 64,
   "id": "e5689549-5dbb-44cd-954f-44418bc9f13a",
   "metadata": {},
   "outputs": [
    {
     "name": "stdout",
     "output_type": "stream",
     "text": [
      "---------------\n",
      "[[4.5 2.  4.5 4.5 0.5]\n",
      " [3.  2.  3.  4.  3.5]\n",
      " [0.5 2.5 4.  4.5 1. ]]\n",
      "---------------\n"
     ]
    }
   ],
   "source": [
    "print('-' * 15)\n",
    "print(arr/2)\n",
    "print('-' * 15)"
   ]
  },
  {
   "cell_type": "markdown",
   "id": "a4ae12b5-d3c5-47db-a7a8-e9ce068b016c",
   "metadata": {},
   "source": [
    "5. Matrix Multiplication"
   ]
  },
  {
   "cell_type": "code",
   "execution_count": 67,
   "id": "3657ed9b-5c92-489b-8947-6c344383f783",
   "metadata": {},
   "outputs": [
    {
     "name": "stdout",
     "output_type": "stream",
     "text": [
      "[[ 25  78]\n",
      " [ 45 108]]\n"
     ]
    }
   ],
   "source": [
    "np.random.seed(3)\n",
    "arr1 = np.random.randint(1,10,(2,2))\n",
    "arr2 = np.random.randint(1,10,(2,2))\n",
    "print(arr1.dot(arr2))"
   ]
  },
  {
   "cell_type": "code",
   "execution_count": 68,
   "id": "5e6df8ff-fc2e-487d-aa29-10f21d720962",
   "metadata": {},
   "outputs": [
    {
     "name": "stdout",
     "output_type": "stream",
     "text": [
      "[[ 25  78]\n",
      " [ 45 108]]\n"
     ]
    }
   ],
   "source": [
    "print(arr1@arr2)"
   ]
  },
  {
   "cell_type": "markdown",
   "id": "b158b1ce-2753-4390-9d2c-d9b49549b236",
   "metadata": {},
   "source": [
    "6. Power"
   ]
  },
  {
   "cell_type": "code",
   "execution_count": 69,
   "id": "939a884d-e3ff-491c-a6da-b369de880915",
   "metadata": {},
   "outputs": [
    {
     "name": "stdout",
     "output_type": "stream",
     "text": [
      "[[81 16 81 81  1]\n",
      " [36 16 36 64 49]\n",
      " [ 1 25 64 81  4]]\n"
     ]
    }
   ],
   "source": [
    "print(arr ** 2)"
   ]
  },
  {
   "cell_type": "code",
   "execution_count": 70,
   "id": "e2a3d542-37c9-4b8b-a7e0-1626d8e9f009",
   "metadata": {},
   "outputs": [
    {
     "name": "stdout",
     "output_type": "stream",
     "text": [
      "[[9 4 9 9 1]\n",
      " [6 4 6 8 7]\n",
      " [1 5 8 9 2]]\n"
     ]
    }
   ],
   "source": [
    "print(arr)"
   ]
  },
  {
   "cell_type": "markdown",
   "id": "f56cb81e-dfa1-49c1-9e31-d396cdb7094f",
   "metadata": {},
   "source": [
    "21.Percentile Function"
   ]
  },
  {
   "cell_type": "code",
   "execution_count": 71,
   "id": "fee15a1e-0b03-457e-bb00-1b0bbc7f5104",
   "metadata": {},
   "outputs": [
    {
     "name": "stdout",
     "output_type": "stream",
     "text": [
      "[9 4 9 9 1 6 4 6 8 7]\n"
     ]
    }
   ],
   "source": [
    "np.random.seed(3)\n",
    "arr = np.random.randint(1,10,10)\n",
    "print(arr)"
   ]
  },
  {
   "cell_type": "code",
   "execution_count": 72,
   "id": "4d490471-271a-4a44-bbb3-a4669baa2f72",
   "metadata": {},
   "outputs": [
    {
     "name": "stdout",
     "output_type": "stream",
     "text": [
      "[1 4 4 6 6 7 8 9 9 9]\n"
     ]
    }
   ],
   "source": [
    "arr = np.sort(arr)\n",
    "print(arr)"
   ]
  },
  {
   "cell_type": "code",
   "execution_count": 73,
   "id": "5797f560-8cf6-4898-8ee4-6f35623dc700",
   "metadata": {},
   "outputs": [
    {
     "name": "stdout",
     "output_type": "stream",
     "text": [
      "6.5\n"
     ]
    }
   ],
   "source": [
    "print(np.percentile(arr, 50))"
   ]
  },
  {
   "cell_type": "markdown",
   "id": "1750f2db-a6dc-487e-b45c-1be305d9091e",
   "metadata": {},
   "source": [
    "22. Finding Mean, Variance and Standard Deviation"
   ]
  },
  {
   "cell_type": "code",
   "execution_count": 74,
   "id": "9776e76d-0b4d-44a4-bb9a-17b5463414ef",
   "metadata": {},
   "outputs": [
    {
     "name": "stdout",
     "output_type": "stream",
     "text": [
      "[1 5 8 9 2 7 3 3 2 4]\n",
      "4.4\n",
      "6.839999999999999\n",
      "2.6153393661244038\n"
     ]
    }
   ],
   "source": [
    "arr = np.random.randint(1,10,10)\n",
    "print(arr)\n",
    "print(arr.mean())\n",
    "print(arr.var())\n",
    "print(arr.std())"
   ]
  },
  {
   "cell_type": "markdown",
   "id": "6c11f3cc-06b0-4e56-9433-483085777164",
   "metadata": {},
   "source": [
    "23. Filtering an numpy array"
   ]
  },
  {
   "cell_type": "code",
   "execution_count": 75,
   "id": "506471ba-4f26-4fad-9a3b-bbcf00887e9a",
   "metadata": {},
   "outputs": [
    {
     "name": "stdout",
     "output_type": "stream",
     "text": [
      "[1 2 3 4 5 6 7 8 9]\n",
      "[ True  True  True  True False False False False False]\n",
      "[1 2 3 4]\n"
     ]
    }
   ],
   "source": [
    "arr = np.arange(1,10)\n",
    "print(arr)\n",
    "print(arr < 5)\n",
    "print(arr[arr < 5])"
   ]
  },
  {
   "cell_type": "markdown",
   "id": "4597700f-762c-4625-930b-fb9c154f6fcb",
   "metadata": {},
   "source": [
    "24. Transposing an array"
   ]
  },
  {
   "cell_type": "code",
   "execution_count": 77,
   "id": "e3974453-69ce-4d89-9c43-6b880e3a1664",
   "metadata": {},
   "outputs": [
    {
     "name": "stdout",
     "output_type": "stream",
     "text": [
      "[[10 19  6  8  6]\n",
      " [15  2 18  2 11]\n",
      " [12  5  4 17 17]]\n"
     ]
    }
   ],
   "source": [
    "arr = np.random.randint(1,20,(3,5))\n",
    "print(arr)"
   ]
  },
  {
   "cell_type": "code",
   "execution_count": 78,
   "id": "7d5d8cc4-b3d7-4d7d-be3f-00e0d3a0c193",
   "metadata": {},
   "outputs": [
    {
     "name": "stdout",
     "output_type": "stream",
     "text": [
      "[[10 15 12]\n",
      " [19  2  5]\n",
      " [ 6 18  4]\n",
      " [ 8  2 17]\n",
      " [ 6 11 17]]\n"
     ]
    }
   ],
   "source": [
    "print(arr.T)"
   ]
  },
  {
   "cell_type": "markdown",
   "id": "92b38a74-2adc-414d-b174-983cdc7c225b",
   "metadata": {},
   "source": [
    "25. Splitting arrays"
   ]
  },
  {
   "cell_type": "code",
   "execution_count": 79,
   "id": "aaab54a9-604a-4570-9d22-982af8084d7c",
   "metadata": {},
   "outputs": [
    {
     "name": "stdout",
     "output_type": "stream",
     "text": [
      "[[1 1 3 3]\n",
      " [8 1 6 1]\n",
      " [2 5 2 3]\n",
      " [3 5 9 1]]\n"
     ]
    }
   ],
   "source": [
    "arr = np.random.randint(1,10,(4,4))\n",
    "print(arr)"
   ]
  },
  {
   "cell_type": "code",
   "execution_count": 80,
   "id": "27961bf7-45e7-4c44-b0af-12d2d1f1419a",
   "metadata": {},
   "outputs": [
    {
     "data": {
      "text/plain": [
       "[array([[1, 1, 3, 3],\n",
       "        [8, 1, 6, 1]]),\n",
       " array([[2, 5, 2, 3],\n",
       "        [3, 5, 9, 1]])]"
      ]
     },
     "execution_count": 80,
     "metadata": {},
     "output_type": "execute_result"
    }
   ],
   "source": [
    "np.vsplit(arr,2)"
   ]
  },
  {
   "cell_type": "code",
   "execution_count": 81,
   "id": "c66fdae0-e6c4-413c-b72c-5efd2b4d3f86",
   "metadata": {},
   "outputs": [
    {
     "data": {
      "text/plain": [
       "[array([[1, 1],\n",
       "        [8, 1],\n",
       "        [2, 5],\n",
       "        [3, 5]]),\n",
       " array([[3, 3],\n",
       "        [6, 1],\n",
       "        [2, 3],\n",
       "        [9, 1]])]"
      ]
     },
     "execution_count": 81,
     "metadata": {},
     "output_type": "execute_result"
    }
   ],
   "source": [
    "np.hsplit(arr,2)"
   ]
  },
  {
   "cell_type": "markdown",
   "id": "8f6cc3c5-d9eb-4b18-95fa-55ac0d5aa8f1",
   "metadata": {},
   "source": [
    "26.Merging arrays"
   ]
  },
  {
   "cell_type": "code",
   "execution_count": 82,
   "id": "54d30dbe-b9ea-4665-867e-c2561ebd0e31",
   "metadata": {},
   "outputs": [],
   "source": [
    "arr1 = np.random.randint(1,10,(2,4))\n",
    "arr2 = np.random.randint(1,10,(2,4))"
   ]
  },
  {
   "cell_type": "code",
   "execution_count": 83,
   "id": "d890dfc8-9606-4e66-bbb5-bd9d92fcb564",
   "metadata": {},
   "outputs": [
    {
     "name": "stdout",
     "output_type": "stream",
     "text": [
      "[[7 1 5 2]\n",
      " [6 2 9 9]]\n",
      "---------------\n",
      "[[8 1 1 2]\n",
      " [8 9 8 5]]\n",
      "------------------------------\n",
      "[[7 1 5 2]\n",
      " [6 2 9 9]\n",
      " [8 1 1 2]\n",
      " [8 9 8 5]]\n",
      "------------------------------\n",
      "[[7 1 5 2 8 1 1 2]\n",
      " [6 2 9 9 8 9 8 5]]\n"
     ]
    }
   ],
   "source": [
    "print(arr1)\n",
    "print('-'*15)\n",
    "print(arr2)\n",
    "print('-'*30)\n",
    "print(np.concatenate((arr1,arr2), axis = 0))\n",
    "print('-'*30)\n",
    "print(np.concatenate((arr1,arr2), axis = 1))"
   ]
  },
  {
   "cell_type": "code",
   "execution_count": 84,
   "id": "6aaa03e5-6449-48bc-8f59-cb727eced391",
   "metadata": {},
   "outputs": [
    {
     "name": "stdout",
     "output_type": "stream",
     "text": [
      "[[7 1 5 2 8 1 1 2]\n",
      " [6 2 9 9 8 9 8 5]]\n"
     ]
    }
   ],
   "source": [
    "print(np.hstack((arr1,arr2)))"
   ]
  },
  {
   "cell_type": "code",
   "execution_count": 85,
   "id": "f9fef7cf-4aec-473b-9567-43870f8ec411",
   "metadata": {},
   "outputs": [
    {
     "name": "stdout",
     "output_type": "stream",
     "text": [
      "[[7 1 5 2]\n",
      " [6 2 9 9]\n",
      " [8 1 1 2]\n",
      " [8 9 8 5]]\n"
     ]
    }
   ],
   "source": [
    "print(np.vstack((arr1,arr2)))"
   ]
  },
  {
   "cell_type": "markdown",
   "id": "deaf7a2b-7633-490b-94b9-33f2c70a5208",
   "metadata": {},
   "source": [
    "26. Where Function"
   ]
  },
  {
   "cell_type": "code",
   "execution_count": 86,
   "id": "85f0df16-6eee-4ee0-867b-ba945f2fcb90",
   "metadata": {},
   "outputs": [
    {
     "data": {
      "text/plain": [
       "array([11, 81, 77, 69, 45, 45, 20, 17, 99, 40])"
      ]
     },
     "execution_count": 86,
     "metadata": {},
     "output_type": "execute_result"
    }
   ],
   "source": [
    "arr = np.random.randint(1,100,10)\n",
    "arr"
   ]
  },
  {
   "cell_type": "code",
   "execution_count": 87,
   "id": "da3a1165-3234-462a-ba6b-f1920ddbd9b2",
   "metadata": {},
   "outputs": [
    {
     "name": "stdout",
     "output_type": "stream",
     "text": [
      "[11 81 77 69 45 45 20 17 99 40]\n",
      "['11' '81' '77' '69' '45' '45' 'even' '17' '99' 'even']\n",
      "['odd' 'odd' 'odd' 'odd' 'odd' 'odd' '20' 'odd' 'odd' '40']\n"
     ]
    }
   ],
   "source": [
    "print(arr)\n",
    "print(np.where(arr%2==0, 'even',arr))\n",
    "print(np.where(arr%2!=0, 'odd',arr))"
   ]
  },
  {
   "cell_type": "code",
   "execution_count": null,
   "id": "a26d1f6b-7e9a-4093-85c8-de4919ae7a83",
   "metadata": {},
   "outputs": [],
   "source": []
  }
 ],
 "metadata": {
  "kernelspec": {
   "display_name": "Python 3 (ipykernel)",
   "language": "python",
   "name": "python3"
  },
  "language_info": {
   "codemirror_mode": {
    "name": "ipython",
    "version": 3
   },
   "file_extension": ".py",
   "mimetype": "text/x-python",
   "name": "python",
   "nbconvert_exporter": "python",
   "pygments_lexer": "ipython3",
   "version": "3.11.7"
  }
 },
 "nbformat": 4,
 "nbformat_minor": 5
}
